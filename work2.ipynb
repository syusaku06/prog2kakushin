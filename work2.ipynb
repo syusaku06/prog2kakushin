{
  "nbformat": 4,
  "nbformat_minor": 0,
  "metadata": {
    "colab": {
      "provenance": [],
      "authorship_tag": "ABX9TyOgv7iPyMWZ+y9gqYouqOEA",
      "include_colab_link": true
    },
    "kernelspec": {
      "name": "python3",
      "display_name": "Python 3"
    },
    "language_info": {
      "name": "python"
    }
  },
  "cells": [
    {
      "cell_type": "markdown",
      "metadata": {
        "id": "view-in-github",
        "colab_type": "text"
      },
      "source": [
        "<a href=\"https://colab.research.google.com/github/syusaku06/prog2kakushin/blob/main/work2.ipynb\" target=\"_parent\"><img src=\"https://colab.research.google.com/assets/colab-badge.svg\" alt=\"Open In Colab\"/></a>"
      ]
    },
    {
      "cell_type": "code",
      "execution_count": null,
      "metadata": {
        "id": "REKveJtzsp6I"
      },
      "outputs": [],
      "source": [
        "好きな4次関数までの関数のグラフを書いてくれるプログラムです。y=ax^4+bx^3+cx^2+dx+eという式のa,b,c,d,eの値と関数の範囲を 自分で決めて下さい。\n",
        "最大値と最小値の表示もしてくれます。"
      ]
    },
    {
      "cell_type": "code",
      "source": [
        "import numpy as np\n",
        "import matplotlib.pyplot as plt\n",
        "#関数を定義する\n",
        "def kansu(a,b,c,d,e,x):\n",
        "  y1=a*x**4+b*x**3+c*x**2+d*x+e\n",
        "  return y1\n",
        "#値の入力\n",
        "a=int(input('aの値は？:'))\n",
        "b=int(input('bの値は？:'))\n",
        "c=int(input('cの値は？:'))\n",
        "d=int(input('dの値は？:'))\n",
        "e=int(input('eの値は？:'))\n",
        "x1=int(input('?<=x:?に入れる数字を決めてください'))\n",
        "x2=int(input('x<=!:!に入れる数字を決めてください。?の数字よりも大きくしてください'))\n",
        "#x座標とy座標を作成する\n",
        "x=np.arange(x1,x2,0.001)\n",
        "y=np.array([kansu(a,b,c,d,e,i) for i in x])\n",
        "#最大値と最小値を作成する\n",
        "max_indx=[i for i ,t in enumerate(y) if t==y.max()]\n",
        "min_indx=[i for i,t in enumerate(y) if t==y.min()]\n",
        "#グラフの作成\n",
        "plt.plot(x,y)\n",
        "plt.plot(x[max_indx],y[max_indx],'.',color='red')\n",
        "plt.plot(x[min_indx],y[min_indx],'.',color='blue')\n",
        "plt.grid()\n",
        "plt.show()\n",
        "print(f'最大値は{int(y[max_indx])}')\n",
        "print(f'最小値は{int(y[min_indx])}')\n",
        "\n",
        "\n",
        "\n",
        "\n"
      ],
      "metadata": {
        "id": "5wuVgh38gvvx"
      },
      "execution_count": null,
      "outputs": []
    }
  ]
}