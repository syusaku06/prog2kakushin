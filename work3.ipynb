{
  "nbformat": 4,
  "nbformat_minor": 0,
  "metadata": {
    "colab": {
      "provenance": [],
      "authorship_tag": "ABX9TyNzv2MDHIrF4XmR2XGW2FVe",
      "include_colab_link": true
    },
    "kernelspec": {
      "name": "python3",
      "display_name": "Python 3"
    },
    "language_info": {
      "name": "python"
    }
  },
  "cells": [
    {
      "cell_type": "markdown",
      "metadata": {
        "id": "view-in-github",
        "colab_type": "text"
      },
      "source": [
        "<a href=\"https://colab.research.google.com/github/syusaku06/prog2kakushin/blob/main/work3.ipynb\" target=\"_parent\"><img src=\"https://colab.research.google.com/assets/colab-badge.svg\" alt=\"Open In Colab\"/></a>"
      ]
    },
    {
      "cell_type": "code",
      "source": [
        "赤色、黄色、緑色、水色、黒色の中から色を１色選びその色で名前を書いてくれるプログラムです。色を打つ際には、指定の英語で打ってください。"
      ],
      "metadata": {
        "id": "HWmDYI7LER_m"
      },
      "execution_count": null,
      "outputs": []
    },
    {
      "cell_type": "code",
      "execution_count": null,
      "metadata": {
        "id": "e1zfjApJs17q"
      },
      "outputs": [],
      "source": [
        "!pip3 install ColabTurtlePlus\n",
        "from ColabTurtlePlus.Turtle import *"
      ]
    },
    {
      "cell_type": "code",
      "source": [
        "c=['red','yellow','green','aqua','black']#色の選別の際に使うリストを作っておく\n",
        "while True:\n",
        "  word=input('名前を15文字以内で入力してください:')#名前の入力させる\n",
        "  if len(word)<=15:#15字以上の文字を選別する\n",
        "    break\n",
        "  else:\n",
        "    print('名前が長すぎるのでもう1度入力してください')\n",
        "    continue\n",
        "while True:\n",
        "  color=input('red,yellow,green,aqua,black,この5つの中から選びそのまま入力してください：')\n",
        "  if color not in c:#色の選別する\n",
        "    print('もう一度入力してください')\n",
        "    continue\n",
        "  break\n",
        "clearscreen()   # 描画エリアの初期化\n",
        "setup(200,200)  # カメを描画する領域の大きさを指定\n",
        "\n",
        "# カメを１つ作成（Turtle型のオブジェクトを新規作成して変数 turtle1 に代入する）\n",
        "turtle1 = Turtle()\n",
        "\n",
        "# turtle1 に対して属性を指定する \n",
        "turtle1.shape(\"turtle\")\n",
        "turtle1.speed(7)  # 描写のスピードを指定する．\n",
        "turtle1.hideturtle()#カメを隠す\n",
        "turtle1.pencolor(color)#カメに色を付ける\n",
        "turtle1.write(word,move=False, align=\"center\", font=(\"mikachan\",20, \"bold\"))#カメに文字を書かせる"
      ],
      "metadata": {
        "id": "whjlYYxBDJFv"
      },
      "execution_count": null,
      "outputs": []
    }
  ]
}