{
  "nbformat": 4,
  "nbformat_minor": 0,
  "metadata": {
    "colab": {
      "provenance": [],
      "authorship_tag": "ABX9TyPYwP4Kv9NI2jjsbQzvWYI/",
      "include_colab_link": true
    },
    "kernelspec": {
      "name": "python3",
      "display_name": "Python 3"
    },
    "language_info": {
      "name": "python"
    }
  },
  "cells": [
    {
      "cell_type": "markdown",
      "metadata": {
        "id": "view-in-github",
        "colab_type": "text"
      },
      "source": [
        "<a href=\"https://colab.research.google.com/github/syusaku06/prog2kakushin/blob/main/work3.ipynb\" target=\"_parent\"><img src=\"https://colab.research.google.com/assets/colab-badge.svg\" alt=\"Open In Colab\"/></a>"
      ]
    },
    {
      "cell_type": "code",
      "execution_count": null,
      "metadata": {
        "id": "e1zfjApJs17q"
      },
      "outputs": [],
      "source": [
        "競馬のようなものをtultleライブラリを用いて作ろう思います。"
      ]
    },
    {
      "cell_type": "code",
      "source": [],
      "metadata": {
        "id": "T35cDIGz2L43"
      },
      "execution_count": null,
      "outputs": []
    }
  ]
}